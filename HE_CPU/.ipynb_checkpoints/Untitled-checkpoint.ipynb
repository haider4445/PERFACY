{
 "cells": [
  {
   "cell_type": "code",
   "execution_count": 1,
   "id": "b2050247",
   "metadata": {},
   "outputs": [],
   "source": [
    "from dataclasses import dataclass\n",
    "from typing import Any, Dict\n",
    "from time import time\n",
    "import pickle\n",
    "import tenseal as ts\n",
    "import torch\n",
    "import sys\n",
    "from pympler import asizeof\n",
    "@dataclass\n",
    "class Results:\n",
    "    \"\"\"Class for keeping track of an item in inventory.\"\"\"\n",
    "    time: float\n",
    "    value: Any\n",
    "    shapes: Any"
   ]
  },
  {
   "cell_type": "code",
   "execution_count": 2,
   "id": "283df94e",
   "metadata": {},
   "outputs": [],
   "source": [
    "def chunks(lst, n):\n",
    "    \"\"\"Yield successive n-sized chunks from lst.\"\"\"\n",
    "    for i in range(0, len(lst), n):\n",
    "        yield lst[i:i + n]\n",
    "\n",
    "def encrypt(weights, context):\n",
    "    start = time()\n",
    "    res = {}\n",
    "    shapes = {}\n",
    "    # Do encryption\n",
    "    for key in weights.keys():\n",
    "        v1 = weights[key]\n",
    "        shapes[key] = v1.shape\n",
    "        v1 = v1.view(-1)\n",
    "        if len(v1) > 8192//2:\n",
    "            vals = chunks(v1, 8192//2)\n",
    "            broken = []\n",
    "            for chunk in vals:\n",
    "                broken.append(ts.ckks_vector(context, chunk))\n",
    "            res[key] = broken\n",
    "        else:\n",
    "            res[key]= ts.ckks_vector(context, v1)\n",
    "    stop = time()\n",
    "    return Results(stop-start, res, shapes)"
   ]
  },
  {
   "cell_type": "code",
   "execution_count": 3,
   "id": "5b623d69",
   "metadata": {},
   "outputs": [],
   "source": [
    "def decrypt(weights, shapes:Dict):\n",
    "    start = time()\n",
    "    res = {}\n",
    "    # Do deencryption\n",
    "    for key in weights:\n",
    "        if isinstance(weights[key], list):\n",
    "            lst = []\n",
    "            for val in weights[key]:\n",
    "                lst.extend(val.decrypt())\n",
    "            res[key] = torch.Tensor(lst).view(shapes[key])\n",
    "                \n",
    "        else:\n",
    "            res[key] = torch.Tensor(weights[key].decrypt())\n",
    "    stop = time()\n",
    "    return Results(stop-start, res, None)"
   ]
  },
  {
   "cell_type": "code",
   "execution_count": 28,
   "id": "778aa058",
   "metadata": {},
   "outputs": [],
   "source": [
    "def fsize(stuff, shapes)->int:\n",
    "    \"\"\" The file size in bytes\"\"\"\n",
    "    bytes_s = 0\n",
    "    for val in stuff:\n",
    "        if isinstance(stuff[val], ts.tensors.ckksvector.CKKSVector):\n",
    "            print(val)\n",
    "            proto = stuff[val].serialize()\n",
    "            pickle_data = pickle.dumps(proto)\n",
    "            file_size = len(pickle_data)\n",
    "            print(sys.getsizeof(proto))\n",
    "\n",
    "        else:\n",
    "            print(\"list\",type(val))\n",
    "    return len(pickle.dumps(shapes))\n",
    "\n"
   ]
  },
  {
   "cell_type": "code",
   "execution_count": 5,
   "id": "17602a98",
   "metadata": {},
   "outputs": [],
   "source": [
    "def write_model(fname: str, model: Dict[str, Any]) -> int:\n",
    "    with open(fname, \"wb\") as fptr:\n",
    "        with io.BytesIO() as buff:\n",
    "            pickle.dump(model, buff)\n",
    "            buff.seek(0)\n",
    "            size = buff.getbuffer().nbytes\n",
    "            fptr.write((size).to_bytes(32, byteorder=\"big\", signed=False))\n",
    "            buff.seek(0)\n",
    "            fptr.write(buff.getbuffer())\n",
    "    return 32 + size\n",
    "\n",
    "def read_model(fname)->Dict[str, Any]:\n",
    "    with open(fname, \"rb\") as fptr:\n",
    "        fptr.seek(32)\n",
    "        data = pickle.load(fptr)\n",
    "    return data\n",
    "\n",
    "def get_model():\n",
    "    return read_model(\"./data.pickle\")\n",
    "\n",
    "x=get_model()\n"
   ]
  },
  {
   "cell_type": "code",
   "execution_count": 6,
   "id": "ce0e0ea7",
   "metadata": {},
   "outputs": [],
   "source": [
    "context = ts.context(\n",
    "            ts.SCHEME_TYPE.CKKS,\n",
    "            poly_modulus_degree=32768,\n",
    "            coeff_mod_bit_sizes=[60, 60, 60, 60,60]\n",
    "          )\n",
    "context.generate_galois_keys()\n",
    "context.global_scale = 2**20"
   ]
  },
  {
   "cell_type": "code",
   "execution_count": 7,
   "id": "2fb50dfe",
   "metadata": {
    "scrolled": true
   },
   "outputs": [
    {
     "name": "stdout",
     "output_type": "stream",
     "text": [
      "torch.Size([128, 9216])\n",
      "===\n",
      "1179648\n",
      "16384\n",
      "---\n",
      "odict_keys(['conv1.weight', 'conv1.bias', 'conv2.weight', 'conv2.bias', 'fc1.weight', 'fc1.bias', 'fc2.weight', 'fc2.bias'])\n",
      "<tenseal.tensors.ckksvector.CKKSVector object at 0x7fa850126860>\n"
     ]
    }
   ],
   "source": [
    "v1 = x[list(x.keys())[0]]\n",
    "v1 = x[\"fc1.weight\"]\n",
    "shape = v1.shape\n",
    "print(shape)\n",
    "v1 = v1.view(-1)\n",
    "print(\"===\")\n",
    "print(len(v1))\n",
    "print(len(v1[:32768//2]))\n",
    "v1 = v1[:32768//2]\n",
    "print(\"---\")\n",
    "v1 = v1.tolist()\n",
    "print(x.keys())\n",
    "enc_v1 = ts.ckks_vector(context, v1)\n",
    "print(enc_v1)\n",
    "#result = enc_v1 + enc_v2\n",
    "#result.decrypt()"
   ]
  },
  {
   "cell_type": "code",
   "execution_count": 8,
   "id": "645f2f52",
   "metadata": {},
   "outputs": [
    {
     "name": "stdout",
     "output_type": "stream",
     "text": [
      "Encrypt Time 1.898791790008545\n",
      "Decrypt Time 0.7698521614074707\n"
     ]
    }
   ],
   "source": [
    "context = ts.context(\n",
    "            ts.SCHEME_TYPE.CKKS,\n",
    "            poly_modulus_degree=8192,\n",
    "            coeff_mod_bit_sizes=[40, 21, 21, 21, 21, 21, 21, 40]\n",
    "          )\n",
    " \n",
    "context.generate_galois_keys()\n",
    "context.global_scale = 2**20\n",
    "x=get_model()\n",
    "\n",
    "res = encrypt(x, context)\n",
    "print(f\"Encrypt Time {res.time}\")\n",
    "#print(f\"Encrypt size {fsize(res.value, res.shapes)}\")\n",
    "res = decrypt(res.value, res.shapes)\n",
    "print(f\"Decrypt Time {res.time}\")\n"
   ]
  },
  {
   "cell_type": "code",
   "execution_count": 9,
   "id": "2d1b6ca2",
   "metadata": {},
   "outputs": [
    {
     "name": "stdout",
     "output_type": "stream",
     "text": [
      "Encrypt Time 1.3145835399627686\n",
      "Decrypt Time 0.4600338935852051\n"
     ]
    }
   ],
   "source": [
    "context = ts.context(\n",
    "            ts.SCHEME_TYPE.CKKS,\n",
    "            poly_modulus_degree=8192,\n",
    "            coeff_mod_bit_sizes=[40, 21, 21, 21, 40]\n",
    "          )\n",
    "context.generate_galois_keys()\n",
    "context.global_scale = 2**20\n",
    "x=get_model()\n",
    "\n",
    "res = encrypt(x, context)\n",
    "print(f\"Encrypt Time {res.time}\")\n",
    "#print(f\"Encrypt size {fsize(res.value, res.shapes)}\")\n",
    "res = decrypt(res.value, res.shapes)\n",
    "print(f\"Decrypt Time {res.time}\")\n"
   ]
  },
  {
   "cell_type": "code",
   "execution_count": 10,
   "id": "70e957e2",
   "metadata": {},
   "outputs": [
    {
     "name": "stdout",
     "output_type": "stream",
     "text": [
      "Encrypt Time 0.8898022174835205\n",
      "Decrypt Time 0.27639198303222656\n"
     ]
    }
   ],
   "source": [
    "context = ts.context(\n",
    "            ts.SCHEME_TYPE.CKKS,\n",
    "            poly_modulus_degree=8192,\n",
    "            coeff_mod_bit_sizes=[40, 21, 40]\n",
    "          )\n",
    "context.generate_galois_keys()\n",
    "context.global_scale = 2**20\n",
    "x=get_model()\n",
    "\n",
    "res = encrypt(x, context)\n",
    "print(f\"Encrypt Time {res.time}\")\n",
    "#print(f\"Encrypt size {fsize(res.value, res.shapes)}\")\n",
    "res = decrypt(res.value, res.shapes)\n",
    "print(f\"Decrypt Time {res.time}\")\n"
   ]
  },
  {
   "cell_type": "code",
   "execution_count": 11,
   "id": "3ad9ffd9",
   "metadata": {},
   "outputs": [
    {
     "name": "stdout",
     "output_type": "stream",
     "text": [
      "Encrypt Time 0.8866875171661377\n",
      "Decrypt Time 0.27869582176208496\n"
     ]
    }
   ],
   "source": [
    "context = ts.context(\n",
    "            ts.SCHEME_TYPE.CKKS,\n",
    "            poly_modulus_degree=8192,\n",
    "            coeff_mod_bit_sizes=[60, 60, 60]\n",
    "          )\n",
    " \n",
    "context.generate_galois_keys()\n",
    "context.global_scale = 2**20\n",
    "x=get_model()\n",
    "\n",
    "res = encrypt(x, context)\n",
    "print(f\"Encrypt Time {res.time}\")\n",
    "#print(f\"Encrypt size {fsize(res.value, res.shapes)}\")\n",
    "res = decrypt(res.value, res.shapes)\n",
    "print(f\"Decrypt Time {res.time}\")\n"
   ]
  },
  {
   "cell_type": "code",
   "execution_count": 12,
   "id": "14519da1",
   "metadata": {},
   "outputs": [
    {
     "name": "stdout",
     "output_type": "stream",
     "text": [
      "Encrypt Time 0.9073848724365234\n",
      "Decrypt Time 0.27713966369628906\n"
     ]
    }
   ],
   "source": [
    "context = ts.context(\n",
    "            ts.SCHEME_TYPE.CKKS,\n",
    "            poly_modulus_degree=8192,\n",
    "            coeff_mod_bit_sizes=[40, 40, 40]\n",
    "          )\n",
    " \n",
    "context.generate_galois_keys()\n",
    "context.global_scale = 2**20\n",
    "x=get_model()\n",
    "\n",
    "res = encrypt(x, context)\n",
    "print(f\"Encrypt Time {res.time}\")\n",
    "#print(f\"Encrypt size {fsize(res.value, res.shapes)}\")\n",
    "res = decrypt(res.value, res.shapes)\n",
    "print(f\"Decrypt Time {res.time}\")\n"
   ]
  },
  {
   "cell_type": "code",
   "execution_count": 29,
   "id": "f4ee1ce8",
   "metadata": {},
   "outputs": [
    {
     "name": "stdout",
     "output_type": "stream",
     "text": [
      "Encrypt Time 0.8728132247924805\n",
      "conv1.weight\n",
      "107107\n",
      "conv1.bias\n",
      "107048\n",
      "list <class 'str'>\n",
      "conv2.bias\n",
      "106993\n",
      "list <class 'str'>\n",
      "fc1.bias\n",
      "107054\n",
      "fc2.weight\n",
      "107065\n",
      "fc2.bias\n",
      "107113\n",
      "Encrypt size 234\n",
      "Decrypt Time 0.2381300926208496\n"
     ]
    }
   ],
   "source": [
    "context = ts.context(\n",
    "            ts.SCHEME_TYPE.CKKS,\n",
    "            poly_modulus_degree=8192,\n",
    "            coeff_mod_bit_sizes=[20, 20, 20]\n",
    "          )\n",
    " \n",
    "context.generate_galois_keys()\n",
    "context.global_scale = 2**20\n",
    "x=get_model()\n",
    "\n",
    "res = encrypt(x, context)\n",
    "print(f\"Encrypt Time {res.time}\")\n",
    "print(f\"Encrypt size {fsize(res.value, res.shapes)}\")\n",
    "res = decrypt(res.value, res.shapes)\n",
    "print(f\"Decrypt Time {res.time}\")\n"
   ]
  },
  {
   "cell_type": "code",
   "execution_count": null,
   "id": "68d2f364",
   "metadata": {},
   "outputs": [],
   "source": []
  }
 ],
 "metadata": {
  "kernelspec": {
   "display_name": "Python 3 (ipykernel)",
   "language": "python",
   "name": "python3"
  },
  "language_info": {
   "codemirror_mode": {
    "name": "ipython",
    "version": 3
   },
   "file_extension": ".py",
   "mimetype": "text/x-python",
   "name": "python",
   "nbconvert_exporter": "python",
   "pygments_lexer": "ipython3",
   "version": "3.10.6"
  }
 },
 "nbformat": 4,
 "nbformat_minor": 5
}
